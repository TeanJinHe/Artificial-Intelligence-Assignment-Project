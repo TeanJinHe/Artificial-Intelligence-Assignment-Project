{
 "cells": [
  {
   "cell_type": "code",
   "execution_count": 1,
   "id": "f290e78c",
   "metadata": {},
   "outputs": [
    {
     "name": "stdout",
     "output_type": "stream",
     "text": [
      "Collecting fuzzypy\n",
      "  Downloading fuzzypy-0.4.zip (8.8 kB)\n",
      "  Preparing metadata (setup.py): started\n",
      "  Preparing metadata (setup.py): finished with status 'done'\n",
      "Building wheels for collected packages: fuzzypy\n",
      "  Building wheel for fuzzypy (setup.py): started\n",
      "  Building wheel for fuzzypy (setup.py): finished with status 'done'\n",
      "  Created wheel for fuzzypy: filename=fuzzypy-0.4-py3-none-any.whl size=7935 sha256=b410c8c902cbbb98015529f9c8f04622b0aaaa993a439a2b23a5c058a169852f\n",
      "  Stored in directory: c:\\users\\user\\appdata\\local\\pip\\cache\\wheels\\80\\3b\\33\\26ee650febebab68e735f3f005111524c1f0ee164c9e432a4b\n",
      "Successfully built fuzzypy\n",
      "Installing collected packages: fuzzypy\n",
      "Successfully installed fuzzypy-0.4\n"
     ]
    }
   ],
   "source": [
    "! pip install fuzzypy"
   ]
  },
  {
   "cell_type": "markdown",
   "id": "bad5d940",
   "metadata": {},
   "source": [
    "https://github.com/alsprogrammer/PythonFuzzyLogic"
   ]
  },
  {
   "cell_type": "code",
   "execution_count": 3,
   "id": "c669b7fa",
   "metadata": {},
   "outputs": [
    {
     "name": "stdout",
     "output_type": "stream",
     "text": [
      "Temp lower limit is 0\n",
      "Temp upper limit is 50\n",
      "Blow lower limit is 0\n",
      "Blow upper limit is 1000\n",
      "The temperature is 30\n",
      "Defuzzyfied values are [753.3333333333334]\n",
      "Or defuzzyfied fan speed is 753.3333333333334\n"
     ]
    },
    {
     "data": {
      "text/plain": [
       "[253.33333333333343]"
      ]
     },
     "execution_count": 3,
     "metadata": {},
     "output_type": "execute_result"
    }
   ],
   "source": [
    "from fuzzypy.variables import *\n",
    "\n",
    "# Create a fuzzy variable\n",
    "fuzzy_temp = FuzzyVariable() # Temperature\n",
    "\n",
    "# Define the membership functions\n",
    "hot = TriFunc(20, 25, 50)\n",
    "norm = TriFunc(15, 20, 25)\n",
    "cold = TrapecFunc(0, 5, 10, 20)\n",
    "\n",
    "# Determine the fuzzy terms\n",
    "temp_is_hot = fuzzy_temp.is_(hot)  # The temperature is hot\n",
    "temp_is_norm = fuzzy_temp.is_(norm)  # The temperature is normal\n",
    "temp_is_cold = fuzzy_temp.is_(cold)  # The temperature is cold\n",
    "\n",
    "# Create an output fuzzy variable\n",
    "fuzzy_blow = FuzzyVariable()  # The speed of the fan\n",
    "\n",
    "# and its membership functions\n",
    "slow = TriFunc(0, 0, 750)\n",
    "fast = TriFunc(250, 1000, 1000)\n",
    "\n",
    "# Determine the rules\n",
    "blow_slow = FuzzyRule(temp_is_cold | temp_is_norm, fuzzy_blow, slow)  # If the temperature is cold or normal then fan speed is slow\n",
    "blow_fast = FuzzyRule(temp_is_hot, fuzzy_blow, fast)  # If the temperature is hot then fan speed is fast\n",
    "\n",
    "# Let the temperature be 30 degrees\n",
    "fuzzy_temp.value = 30\n",
    "\n",
    "# Lets find the limits of the variables\n",
    "print(\"Temp lower limit is {}\".format(fuzzy_temp.low_limit))\n",
    "print(\"Temp upper limit is {}\".format(fuzzy_temp.upp_limit))\n",
    "print(\"Blow lower limit is {}\".format(fuzzy_blow.low_limit))\n",
    "print(\"Blow upper limit is {}\".format(fuzzy_blow.upp_limit))\n",
    "\n",
    "print(\"The temperature is {}\".format(fuzzy_temp.value))\n",
    "fan_speed = apply_defuzzyfy_COG([blow_slow, blow_fast])  # then the fan speed is\n",
    "print(\"Defuzzyfied values are {}\".format(fan_speed))  # it could be more then one value\n",
    "print(\"Or defuzzyfied fan speed is {}\".format(fuzzy_blow.value))  # and we can check the value of the fan speen directly\n",
    "\n",
    "fuzzy_temp.value = 13  # and now the temp is 13 degrees\n",
    "apply_defuzzyfy_COG([blow_slow, blow_fast])  # let us find the fan speed"
   ]
  },
  {
   "cell_type": "code",
   "execution_count": null,
   "id": "816d546f",
   "metadata": {},
   "outputs": [],
   "source": []
  }
 ],
 "metadata": {
  "kernelspec": {
   "display_name": "Python 3 (ipykernel)",
   "language": "python",
   "name": "python3"
  },
  "language_info": {
   "codemirror_mode": {
    "name": "ipython",
    "version": 3
   },
   "file_extension": ".py",
   "mimetype": "text/x-python",
   "name": "python",
   "nbconvert_exporter": "python",
   "pygments_lexer": "ipython3",
   "version": "3.9.13"
  }
 },
 "nbformat": 4,
 "nbformat_minor": 5
}
